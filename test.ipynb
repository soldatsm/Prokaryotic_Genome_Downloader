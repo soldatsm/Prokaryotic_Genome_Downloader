{
 "cells": [
  {
   "cell_type": "code",
   "execution_count": 5,
   "metadata": {},
   "outputs": [
    {
     "data": {
      "text/plain": [
       "<module 'scr' from '/home/aster/Projects/NCBI_genome_assembly_downloader/scr/__init__.py'>"
      ]
     },
     "execution_count": 5,
     "metadata": {},
     "output_type": "execute_result"
    }
   ],
   "source": [
    "import requests\n",
    "import re\n",
    "import importlib\n",
    "import scr\n",
    "\n",
    "importlib.reload(scr)"
   ]
  },
  {
   "cell_type": "markdown",
   "metadata": {},
   "source": [
    "# TEST script modules"
   ]
  },
  {
   "cell_type": "code",
   "execution_count": 47,
   "metadata": {},
   "outputs": [
    {
     "data": {
      "text/plain": [
       "'https://ftp.ncbi.nlm.nih.gov/genomes/all/GCF/003/841/505//GCF_003841505.1_ASM384150v1'"
      ]
     },
     "execution_count": 47,
     "metadata": {},
     "output_type": "execute_result"
    }
   ],
   "source": [
    "scr.get_link_to_genome_folder('GCF_003841505.1')"
   ]
  },
  {
   "cell_type": "code",
   "execution_count": 1,
   "metadata": {},
   "outputs": [],
   "source": [
    "import os"
   ]
  },
  {
   "cell_type": "code",
   "execution_count": 2,
   "metadata": {},
   "outputs": [
    {
     "data": {
      "text/plain": [
       "['GCF_003841505.1_ASM384150v1_genomic.gbff.gz',\n",
       " 'README.txt',\n",
       " 'annotation_hashes.txt',\n",
       " 'uncompressed_checksums.txt',\n",
       " 'index.html.1',\n",
       " 'GCF_003841505.1_ASM384150v1_genomic.fna.gz',\n",
       " 'GCF_003841505.1_ASM384150v1_feature_count.txt',\n",
       " 'GCF_003841505.1_ASM384150v1_rna_from_genomic.fna.gz',\n",
       " 'md5checksums.txt',\n",
       " 'GCF_003841505.1_ASM384150v1_ani_report.txt',\n",
       " 'GCF_003841505.1_ASM384150v1_wgsmaster.gbff.gz',\n",
       " 'GCF_003841505.1_ASM384150v1_feature_table.txt.gz',\n",
       " 'GCF_003841505.1_ASM384150v1_protein.faa.gz',\n",
       " 'GCF_003841505.1_ASM384150v1_cds_from_genomic.fna.gz',\n",
       " 'GCF_003841505.1_ASM384150v1_assembly_report.txt',\n",
       " 'GCF_003841505.1_ASM384150v1_assembly_stats.txt',\n",
       " 'assembly_status.txt',\n",
       " 'GCF_003841505.1_ASM384150v1_translated_cds.faa.gz',\n",
       " 'GCF_003841505.1_ASM384150v1_fcs_report.txt',\n",
       " 'GCF_003841505.1_ASM384150v1_genomic.gff.gz',\n",
       " 'index.html',\n",
       " 'GCF_003841505.1_ASM384150v1_genomic.gtf.gz',\n",
       " 'GCF_003841505.1_ASM384150v1_protein.gpff.gz',\n",
       " 'GCF_003841505.1_ASM384150v1_ani_contam_ranges.tsv']"
      ]
     },
     "execution_count": 2,
     "metadata": {},
     "output_type": "execute_result"
    }
   ],
   "source": [
    "os.listdir('/home/aster/Projects/NCBI_genome_assembly_downloader/test_folder')"
   ]
  },
  {
   "cell_type": "markdown",
   "metadata": {},
   "source": []
  }
 ],
 "metadata": {
  "kernelspec": {
   "display_name": "bioinfo",
   "language": "python",
   "name": "python3"
  },
  "language_info": {
   "codemirror_mode": {
    "name": "ipython",
    "version": 3
   },
   "file_extension": ".py",
   "mimetype": "text/x-python",
   "name": "python",
   "nbconvert_exporter": "python",
   "pygments_lexer": "ipython3",
   "version": "3.8.12"
  }
 },
 "nbformat": 4,
 "nbformat_minor": 2
}
